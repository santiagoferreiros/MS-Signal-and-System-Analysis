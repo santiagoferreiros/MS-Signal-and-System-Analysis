{
  "nbformat": 4,
  "nbformat_minor": 0,
  "metadata": {
    "colab": {
      "name": "Unidad 1 - Numeros Complejos.ipynb",
      "provenance": [],
      "collapsed_sections": [],
      "include_colab_link": true
    },
    "kernelspec": {
      "name": "python3",
      "display_name": "Python 3"
    },
    "language_info": {
      "name": "python"
    }
  },
  "cells": [
    {
      "cell_type": "markdown",
      "metadata": {
        "id": "view-in-github",
        "colab_type": "text"
      },
      "source": [
        "<a href=\"https://colab.research.google.com/github/santiagoferreiros/MS-Signal-and-System-Analysis/blob/main/U1-Complex-Numbers.ipynb\" target=\"_parent\"><img src=\"https://colab.research.google.com/assets/colab-badge.svg\" alt=\"Open In Colab\"/></a>"
      ]
    },
    {
      "cell_type": "code",
      "metadata": {
        "colab": {
          "base_uri": "https://localhost:8080/",
          "height": 282
        },
        "id": "5s_oRq4OKP3c",
        "outputId": "81cc1295-9237-48f3-9f99-0f7292dce90a"
      },
      "source": [
        "import numpy as np\n",
        "from pylab import *\n",
        "import matplotlib.pyplot as plt\n",
        "\n",
        "#Ejercicio armado de ejemplo para probar eje de coordenadas y impresion de numeros hardcodeados\n",
        "\n",
        "def showComplex(a,b):\n",
        "\n",
        "  # Debo definir en un array los conjuntos de puntos x y otro de los puntos y\n",
        "  # Imprimo siempre el (0,0) para tener la referencia\n",
        "  xpoints = [0, -3,-3,3,3]\n",
        "  ypoints = [0, 4,-4,4,-4]\n",
        "  \n",
        "  # Estos 2 array alimentan la funcion scatter que los imprime en pantalla\n",
        "  scatter(xpoints, ypoints)\n",
        "  \n",
        "  # Para tener nocion de donde estan los puntos utilizo la funcion arrow(x,y,dx,dy,**kwargs).\n",
        "  # Esta funcion dibuja una flecha desde (x,y) hasta (x+dx,y+dy) utilizando el tamaño de flecha en el ultimo parametro.\n",
        "  # Voy a aramar 2 flechas, una desde (-5,0)->(5,0) y otra de (0,-5)->(0,5)\n",
        "  # Si para algun ejemplo se necesita agrandar el mapa de coordenadas basta con aumentar los parametros de estas flechas\n",
        "  arrow( -5, 0, 10, 0, length_includes_head = True, head_width = 0.15 )\n",
        "  arrow( 0, -5, 0, 10, length_includes_head = True, head_width = 0.15 ) \n",
        "\n",
        "  # La funcion grid imprime la cuadricula para hacer mas prolijo el eje de coordenadas\n",
        "  grid()\n",
        "\n",
        "# Armo un numero complejo pero no lo utilizo en este ejercicio, simplemente\n",
        "# lo declaro para aprender yo como usar funciones :).\n",
        "complexNumber = complex(input(\"Enter number:\"))\n",
        "showComplex(complexNumber.real,complexNumber.imag)\n"
      ],
      "execution_count": null,
      "outputs": [
        {
          "output_type": "stream",
          "text": [
            "Enter number:7+6j\n"
          ],
          "name": "stdout"
        },
        {
          "output_type": "display_data",
          "data": {
            "image/png": "[encoded data removed]",
            "text/plain": [
              "<Figure size 432x288 with 1 Axes>"
            ]
          },
          "metadata": {
            "tags": [],
            "needs_background": "light"
          }
        }
      ]
    },
    {
      "cell_type": "code",
      "metadata": {
        "colab": {
          "base_uri": "https://localhost:8080/",
          "height": 282
        },
        "id": "luZqU__oUcbG",
        "outputId": "0fce6bbb-d4c6-4d4d-c1c8-474e05535eb1"
      },
      "source": [
        "import numpy as np\n",
        "from pylab import *\n",
        "import matplotlib.pyplot as plt\n",
        "\n",
        "#Ejercicio 1 que muestra un numero complejo en el mapa cartesiano\n",
        "\n",
        "def showComplex(a,b):\n",
        "# Armo mis array con estas variables ingresadas\n",
        "  xpoints = [0,a]\n",
        "  ypoints = [0,b]\n",
        "  \n",
        "  scatter(xpoints, ypoints)\n",
        "  \n",
        "  arrow( -5, 0, 10, 0, length_includes_head = True, head_width = 0.15 )\n",
        "  arrow( 0, -5, 0, 10, length_includes_head = True, head_width = 0.15 ) \n",
        "\n",
        "  grid()\n",
        "\n",
        "  show()\n",
        "  \n",
        "complexNumber = complex(input(\"Enter number:\"))\n",
        "# Tomo la parte real y la parte imaginaria del numero complejo\n",
        "showComplex(complexNumber.real,complexNumber.imag)\n"
      ],
      "execution_count": null,
      "outputs": [
        {
          "output_type": "stream",
          "text": [
            "Enter number:5+3j\n"
          ],
          "name": "stdout"
        },
        {
          "output_type": "display_data",
          "data": {
            "image/png": "[encoded data removed]",
            "text/plain": [
              "<Figure size 432x288 with 1 Axes>"
            ]
          },
          "metadata": {
            "tags": [],
            "needs_background": "light"
          }
        }
      ]
    },
    {
      "cell_type": "code",
      "metadata": {
        "colab": {
          "base_uri": "https://localhost:8080/",
          "height": 299
        },
        "id": "PnCwklL4BE-G",
        "outputId": "e3a9ba66-34c9-46ef-e37c-ba7bb831f5f6"
      },
      "source": [
        "import numpy as np\n",
        "from pylab import *\n",
        "import matplotlib.pyplot as plt\n",
        "import math\n",
        "\n",
        "#Ejercicio 2 que muestra un numero complejo en el mapa cartesiano y calcula su modulo\n",
        "\n",
        "def showComplexModule(a,b):\n",
        "  xpoints = [0,a]\n",
        "  ypoints = [0,b]\n",
        "  \n",
        "# Esta funcion en vez de imprimir un puno lo que va a hacer es imprimir una recta uniendo cada punto\n",
        "# en este caso va a unir (0,0) y el numero ingresado.\n",
        "# La longitud de esta recta es el modulo del numero!\n",
        "\n",
        "  plt.plot(xpoints, ypoints)\n",
        "  \n",
        "  arrow( -5, 0, 10, 0, length_includes_head = True, head_width = 0.15 )\n",
        "  arrow( 0, -5, 0, 10, length_includes_head = True, head_width = 0.15 ) \n",
        "\n",
        "  grid()\n",
        "\n",
        "  show()\n",
        "  \n",
        "  modulo = sqrt(pow(a,2)+pow(b,2))\n",
        "  print(\"Modulo es \"+str(modulo))\n",
        "complexNumber = complex(input(\"Enter number:\"))\n",
        "showComplexModule(complexNumber.real,complexNumber.imag)\n"
      ],
      "execution_count": null,
      "outputs": [
        {
          "output_type": "stream",
          "text": [
            "Enter number:3+3j\n"
          ],
          "name": "stdout"
        },
        {
          "output_type": "display_data",
          "data": {
            "image/png": "[encoded data removed]",
            "text/plain": [
              "<Figure size 432x288 with 1 Axes>"
            ]
          },
          "metadata": {
            "tags": [],
            "needs_background": "light"
          }
        },
        {
          "output_type": "stream",
          "text": [
            "Modulo es 4.242640687119285\n"
          ],
          "name": "stdout"
        }
      ]
    },
    {
      "cell_type": "code",
      "metadata": {
        "colab": {
          "base_uri": "https://localhost:8080/",
          "height": 435
        },
        "id": "1ICYW7SjCxiF",
        "outputId": "b29463c1-2466-4151-9867-e5ca5aa12b2f"
      },
      "source": [
        "import numpy as np\n",
        "from pylab import *\n",
        "import matplotlib.pyplot as plt\n",
        "import math\n",
        "import cmath\n",
        "\n",
        "# Ejercicio 3, muestra 2 numeros en el mapa cartesiano\n",
        "# Hace operaciones con ellos\n",
        "\n",
        "\n",
        "def showComplexMath(a,b):\n",
        "\n",
        "  #Calculo y muestro sus modulos con fases\n",
        "  moduloA = sqrt(pow(a.real,2)+pow(a.imag,2))\n",
        "  print(\"Modulo de A es \"+str(moduloA)+\" y su fase es \"+str(cmath.phase(a)))\n",
        "  moduloB = sqrt(pow(b.real,2)+pow(b.imag,2))\n",
        "  print(\"Modulo de B es \"+str(moduloB)+\" y su fase es \"+str(cmath.phase(b)))\n",
        "\n",
        "  print(\"Suma de ambos es \"+str(a+b))\n",
        "  #Notar que en forma polar lo imprime igual a su modulo y fase...\n",
        "  print(\"A en forma polar es \"+str(cmath.polar(a)))\n",
        "  print(\"B en forma polar es \"+str(cmath.polar(b)))\n",
        "  \n",
        "  axb = a*b\n",
        "  #Aca se puede ver como es mucho mas facil resolver la multiplicacion en forma polar \n",
        "  print(\"Multiplicacion de ambos es \"+str(a*b)+\" y en forma polar \"+str(cmath.polar(a*b)))\n",
        "\n",
        "  # La funcion np.conj de la libreria numpy me devuelve el conjugado de un numero complejo\n",
        "\n",
        "  complexConjA = np.conj(a)\n",
        "  complexConjB = np.conj(b)\n",
        "\n",
        "  print(\"El conjugado de A es \",complexConjA)\n",
        "  print(\"El conjugado de B es \",complexConjB)\n",
        "\n",
        "  xpointsA = [0,a.real]\n",
        "  ypointsA = [0,a.imag]\n",
        "  xpointsB = [0,b.real]\n",
        "  ypointsB = [0,b.imag]\n",
        "\n",
        "  xpointsAconj = [0,complexConjA.real]\n",
        "  ypointsAconj = [0,complexConjA.imag]\n",
        "  xpointsBconj = [0,complexConjB.real]\n",
        "  ypointsBconj = [0,complexConjB.imag]\n",
        "\n",
        "# Imprimo la multiplicacion de ambos numeros en un punto.\n",
        "  scatter([0,axb.real],[0,axb.imag])\n",
        "# Imprimo la recta de los numeros ingresados\n",
        "  plt.plot(xpointsA, ypointsA)\n",
        "  plt.plot(xpointsB, ypointsB)\n",
        "  plt.plot(xpointsAconj,ypointsAconj)\n",
        "  plt.plot(xpointsBconj,ypointsB5conj)\n",
        "  \n",
        "  arrow( -5, 0, 10, 0, length_includes_head = True, head_width = 0.15 )\n",
        "  arrow( 0, -5, 0, 10, length_includes_head = True, head_width = 0.15 ) \n",
        "\n",
        "  grid()\n",
        "\n",
        "\n",
        "complexNumberA = complex(input(\"Enter number a:\"))\n",
        "complexNumberB = complex(input(\"Enter number b:\"))\n",
        "showComplexMath(complexNumberA,complexNumberB)\n"
      ],
      "execution_count": null,
      "outputs": [
        {
          "output_type": "stream",
          "text": [
            "Enter number a:2-j\n",
            "Enter number b:+3j\n",
            "Modulo de A es 2.23606797749979 y su fase es -0.4636476090008061\n",
            "Modulo de B es 3.0 y su fase es 1.5707963267948966\n",
            "Suma de ambos es (2+2j)\n",
            "A en forma polar es (2.23606797749979, -0.4636476090008061)\n",
            "B en forma polar es (3.0, 1.5707963267948966)\n",
            "Multiplicacion de ambos es (3+6j) y en forma polar (6.708203932499369, 1.1071487177940904)\n",
            "El conjugado de A es  (2+1j)\n",
            "El conjugado de B es  -3j\n"
          ],
          "name": "stdout"
        },
        {
          "output_type": "display_data",
          "data": {
            "image/png": "[encoded data removed]",
            "text/plain": [
              "<Figure size 432x288 with 1 Axes>"
            ]
          },
          "metadata": {
            "tags": [],
            "needs_background": "light"
          }
        }
      ]
    },
    {
      "cell_type": "code",
      "metadata": {
        "colab": {
          "base_uri": "https://localhost:8080/"
        },
        "id": "wkmd8518XBHT",
        "outputId": "5b8fdef5-4958-4691-b10f-8dd817983d4d"
      },
      "source": [
        "# En este ejercicio voy a desarrollar las potencias de los numeros complejos.\n",
        "import numpy as np\n",
        "from pylab import *\n",
        "import matplotlib.pyplot as plt\n",
        "import math\n",
        "import cmath\n",
        "\n",
        "def showComplexPow(a,b):\n",
        "  print (\"A elevado a la B da: \",pow(a,b))\n",
        "\n",
        "complexNumberA = complex(input(\"Enter number a:\"))\n",
        "complexNumberB = complex(input(\"Enter number b:\"))\n",
        "showComplexPow(complexNumberA,complexNumberB)"
      ],
      "execution_count": null,
      "outputs": [
        {
          "output_type": "stream",
          "text": [
            "Enter number a:3+4j\n",
            "Enter number b:2\n",
            "A elevado a la B da:  (-7+24j)\n"
          ],
          "name": "stdout"
        }
      ]
    },
    {
      "cell_type": "code",
      "metadata": {
        "colab": {
          "base_uri": "https://localhost:8080/"
        },
        "id": "wNDW5ocjalxy",
        "outputId": "c4ed52cd-5a64-45f8-cd85-f9f84984afe1"
      },
      "source": [
        "# En este ejercicio voy a desarrollar la raiz de los numeros complejos.\n",
        "import numpy as np\n",
        "from pylab import *\n",
        "import matplotlib.pyplot as plt\n",
        "import math\n",
        "import cmath\n",
        "\n",
        "def showComplexSquare(a):\n",
        "  print (\"La raiz de A da: \",cmath.sqrt(a))\n",
        "\n",
        "  # Para calcularlo a mano se hace lo siguiente\n",
        "  print (\"Busqueda de raices segun metodo explicado en clase\")\n",
        "  modA = abs(a)\n",
        "  modA2 = -modA\n",
        "\n",
        "  x = sqrt((modA+a.real)/2)\n",
        "  y = sqrt((modA-a.real)/2)\n",
        "\n",
        "  if a.imag<0:\n",
        "    print (\"Las raices son +/- (\"+str(x)+\" - \"+str(y)+\"j)\")\n",
        "    #print (\"Las raices son +/- \",x,y)\n",
        "  elif a.imag>0:\n",
        "    #print (\"Las raices son +/- \",x,y)\n",
        "    print (\"Las raices son +/- (\"+str(x)+\" + \"+str(y)+\"j)\")\n",
        "  else:\n",
        "    #print(\"asd\")\n",
        "    print (\"Las raices son +/-\"+sqrt(a.real))\n",
        "\n",
        "  \n",
        "complexNumberA = complex(input(\"Enter number a:\"))\n",
        "showComplexSquare(complexNumberA)\n",
        "\n",
        "\n"
      ],
      "execution_count": null,
      "outputs": [
        {
          "output_type": "stream",
          "text": [
            "Enter number a:3-4j\n",
            "La raiz de A da:  (2-1j)\n",
            "Busqueda de raices segun metodo explicado en clase\n",
            "Las raices son +/- (2.0 - 1.0j)\n"
          ],
          "name": "stdout"
        }
      ]
    },
    {
      "cell_type": "code",
      "metadata": {
        "id": "sjzx4dqGh9q-",
        "colab": {
          "base_uri": "https://localhost:8080/",
          "height": 673
        },
        "outputId": "ff9baa42-6842-4bdd-e509-064a9ff06639"
      },
      "source": [
        "# En este ejercicio voy a desarrollar la raiz nesima de los numeros complejos.\n",
        "import numpy as np\n",
        "from pylab import *\n",
        "import matplotlib.pyplot as plt\n",
        "import math\n",
        "import cmath\n",
        "\n",
        "def showComplexSquareN(a,n):\n",
        "  #Esto es lo que nos da la funcion\n",
        "  print (\"Raiz \",n,\" de A da: \",pow(a,1/n))\n",
        "\n",
        "  #Ahora desarrollemos lo visto en clase.\n",
        "  mod = abs(a)\n",
        "  phi = math.atan(a.imag/a.real)\n",
        "  for x in range(n):\n",
        "    o = (phi+2*x*pi)/n\n",
        "    print (\"La fase de \"+str(x)+\" da \"+str(o/pi)+\"pi\")\n",
        "    squareN = mod * (math.cos(o) + math.sin(o)*1j)\n",
        "    print (\"Raiz N=\"+str(x)+\" da \",str(squareN))\n",
        "    print (squareN)\n",
        "    xpoints = [0,squareN.real]\n",
        "    ypoints = [0,squareN.imag]\n",
        "    plt.plot(xpoints, ypoints)\n",
        "  \n",
        "  arrow( -5, 0, 10, 0, length_includes_head = True, head_width = 0.15 )\n",
        "  arrow( 0, -5, 0, 10, length_includes_head = True, head_width = 0.15 ) \n",
        "\n",
        "  grid()\n",
        "\n",
        "  \n",
        "complexNumberA = complex(input(\"Enter number a:\"))\n",
        "n = int(input(\"Enter integer number n:\"))\n",
        "showComplexSquareN(complexNumberA,n)\n",
        "\n",
        "\n"
      ],
      "execution_count": 1,
      "outputs": [
        {
          "output_type": "stream",
          "text": [
            "Enter number a:1\n",
            "Enter integer number n:7\n",
            "Raiz  7  de A da:  (1+0j)\n",
            "La fase de 0 da 0.0pi\n",
            "Raiz N=0 da  (1+0j)\n",
            "(1+0j)\n",
            "La fase de 1 da 0.2857142857142857pi\n",
            "Raiz N=1 da  (0.6234898018587336+0.7818314824680298j)\n",
            "(0.6234898018587336+0.7818314824680298j)\n",
            "La fase de 2 da 0.5714285714285714pi\n",
            "Raiz N=2 da  (-0.22252093395631434+0.9749279121818236j)\n",
            "(-0.22252093395631434+0.9749279121818236j)\n",
            "La fase de 3 da 0.8571428571428571pi\n",
            "Raiz N=3 da  (-0.900968867902419+0.43388373911755823j)\n",
            "(-0.900968867902419+0.43388373911755823j)\n",
            "La fase de 4 da 1.1428571428571428pi\n",
            "Raiz N=4 da  (-0.9009688679024191-0.433883739117558j)\n",
            "(-0.9009688679024191-0.433883739117558j)\n",
            "La fase de 5 da 1.4285714285714286pi\n",
            "Raiz N=5 da  (-0.2225209339563146-0.9749279121818236j)\n",
            "(-0.2225209339563146-0.9749279121818236j)\n",
            "La fase de 6 da 1.7142857142857142pi\n",
            "Raiz N=6 da  (0.6234898018587334-0.7818314824680299j)\n",
            "(0.6234898018587334-0.7818314824680299j)\n"
          ],
          "name": "stdout"
        },
        {
          "output_type": "display_data",
          "data": {
            "image/png": "[encoded data removed]",
            "text/plain": [
              "<Figure size 432x288 with 1 Axes>"
            ]
          },
          "metadata": {
            "tags": [],
            "needs_background": "light"
          }
        }
      ]
    },
    {
      "cell_type": "code",
      "metadata": {
        "colab": {
          "base_uri": "https://localhost:8080/"
        },
        "id": "H7dD0k5jfMOY",
        "outputId": "3134cb3d-2ce2-473f-eb8c-9657ffa57b8c"
      },
      "source": [
        "# En este ejercicio voy a desarrollar el logaritmo de los numeros complejos.\n",
        "import numpy as np\n",
        "from pylab import *\n",
        "import matplotlib.pyplot as plt\n",
        "import math\n",
        "import cmath\n",
        "\n",
        "def showComplexLog(a):\n",
        "  print (\"El Log de A da: \",log(a))\n",
        "  \n",
        "  # Aqui desarrollo el algoritmo con el metodo aprendido en clase\n",
        "  h = abs(a)\n",
        "\n",
        "  arg = str(cmath.phase(a))\n",
        "\n",
        "  # Faltaria hacer el algoritmo para que sea entre 0 y 2pi \n",
        "  print (\"El log con el algoritmo de clase da \"+str(log(h))+\" + j.\"+str(math.atan(a.imag/a.real)))\n",
        "\n",
        "  \n",
        "complexNumberA = complex(input(\"Enter number a:\"))\n",
        "showComplexLog(complexNumberA)\n",
        "\n",
        "\n"
      ],
      "execution_count": null,
      "outputs": [
        {
          "output_type": "stream",
          "text": [
            "Enter number a:-1+j\n",
            "El Log de A da:  (0.34657359027997264+2.356194490192345j)\n",
            "El log con el algoritmo de clase da 0.3465735902799727 + j.-0.7853981633974483\n"
          ],
          "name": "stdout"
        }
      ]
    },
    {
      "cell_type": "code",
      "metadata": {
        "id": "qDEjmduf3Cp6"
      },
      "source": [
        ""
      ],
      "execution_count": null,
      "outputs": []
    }
  ]
}